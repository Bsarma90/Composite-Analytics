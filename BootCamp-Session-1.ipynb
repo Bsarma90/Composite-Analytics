{
 "cells": [
  {
   "cell_type": "code",
   "execution_count": 17,
   "id": "3c17884b",
   "metadata": {},
   "outputs": [
    {
     "name": "stdout",
     "output_type": "stream",
     "text": [
      "Counter({1: 4, 2: 3, 3: 2, 5: 2, 7: 2, 8: 1, 9: 1, 6: 1})\n",
      "{1: 4, 2: 3, 3: 2, 5: 2, 8: 1, 9: 1, 7: 2, 6: 1}\n",
      "[1]\n"
     ]
    }
   ],
   "source": [
    "###Code to get mode of a data\n",
    "from collections import Counter\n",
    "num_list=[1,1,1,1,2,2,2,3,3,5,8,9,7,7,6,5]\n",
    "n=len(num_list)\n",
    "data=Counter(num_list)\n",
    "print(data)\n",
    "get_data=dict(data)\n",
    "print(get_data)\n",
    "mode=[k for k,v in get_data.items() if v==max(list(get_data.values()))]\n",
    "print(mode)"
   ]
  },
  {
   "cell_type": "code",
   "execution_count": 42,
   "id": "b1559156",
   "metadata": {},
   "outputs": [
    {
     "name": "stdout",
     "output_type": "stream",
     "text": [
      "      Country  Region\n",
      "0     Algeria  AFRICA\n",
      "1      Angola  AFRICA\n",
      "2       Benin  AFRICA\n",
      "3    Botswana  AFRICA\n",
      "4     Burkina  AFRICA\n",
      "5     Burundi  AFRICA\n",
      "6    Cameroon  AFRICA\n",
      "7  Cape Verde  AFRICA\n"
     ]
    }
   ],
   "source": [
    "import pandas as pd\n",
    "url=\"https://raw.githubusercontent.com/cs109/2014_data/master/countries.csv\"\n",
    "df=pd.read_csv(url)\n",
    "print(df[1:8])\n"
   ]
  },
  {
   "cell_type": "code",
   "execution_count": 7,
   "id": "359c71ec",
   "metadata": {},
   "outputs": [
    {
     "name": "stdout",
     "output_type": "stream",
     "text": [
      "[[-1 -1  0  0 -1]\n",
      " [-1 -1 -1 -1  0]\n",
      " [-1  0  0  0 -1]\n",
      " [-1 -1  0  0 -1]\n",
      " [-1  0  0  0 -1]]\n"
     ]
    }
   ],
   "source": [
    "import numpy as np\n",
    "matrix = np.random.randint(-1,1,size=(5,5))\n",
    "print(matrix)\n"
   ]
  },
  {
   "cell_type": "code",
   "execution_count": 31,
   "id": "e6ff27fe",
   "metadata": {},
   "outputs": [
    {
     "name": "stdout",
     "output_type": "stream",
     "text": [
      "[[ 1.28125374  0.5646493   0.87241513 -0.64269341 -0.65223231]\n",
      " [-0.8878      0.76575238  1.43814615 -0.86494536 -0.3004241 ]\n",
      " [ 0.97632255  1.40199461  0.88184354 -0.5424124   0.87947513]\n",
      " [ 0.23226209  0.81243646  1.57137003  0.7022365  -0.94617003]\n",
      " [ 1.6674005   1.6738338   1.05378725  0.69163065 -0.99156806]]\n"
     ]
    }
   ],
   "source": [
    "##############Create a 5X5 matrix with entries between -1 to 1 and multiply all negative numbers by -2 and all positive numbers by -1\n",
    "import numpy as np\n",
    "high = 1\n",
    "low = -1\n",
    "m,n = 5,5\n",
    "mat = (high - low)*np.random.rand(m,n) + low\n",
    "result = np.where(mat > 0, mat*-1, mat*-2)\n",
    "print(result)\n"
   ]
  },
  {
   "cell_type": "code",
   "execution_count": null,
   "id": "c05b824b",
   "metadata": {},
   "outputs": [],
   "source": [
    "from scipy.stats import binom\n"
   ]
  },
  {
   "cell_type": "code",
   "execution_count": 4,
   "id": "2e3d4a49",
   "metadata": {},
   "outputs": [
    {
     "name": "stdout",
     "output_type": "stream",
     "text": [
      "6.4 2.5298221281347035\n"
     ]
    }
   ],
   "source": [
    "############Create a function to get variance and std. deviation of data\n",
    "import math\n",
    "def variance(data, ddof=0):\n",
    "    n = len(data)\n",
    "    mean = sum(data) / n\n",
    "    return sum((x - mean) ** 2 for x in data) / (n - ddof)\n",
    "def stdev(data, ddof=0):\n",
    "    return math.sqrt(variance(data, ddof))\n",
    "###example\n",
    "var=variance([4, 8, 6, 5, 3, 2, 8, 9, 2, 5], ddof=1)\n",
    "sd=stdev([4, 8, 6, 5, 3, 2, 8, 9, 2, 5], ddof=1)\n",
    "print(var, sd)"
   ]
  },
  {
   "cell_type": "code",
   "execution_count": 13,
   "id": "da0e3f24",
   "metadata": {},
   "outputs": [
    {
     "name": "stdout",
     "output_type": "stream",
     "text": [
      "0.23717082451262866\n"
     ]
    }
   ],
   "source": [
    "#########Mean###################\n",
    "def mean(data):\n",
    "    return sum(data) / len(data)\n",
    "#########Mode########################\n",
    "def median(data):\n",
    "    n = len(data)\n",
    "    index = n // 2\n",
    "    if n % 2:\n",
    "        return sorted(data)[index]\n",
    "    return sum(sorted(data)[index - 1:index + 1]) / 2\n",
    "############std. deviation######################\n",
    "import math\n",
    "def variance(data, ddof=0):\n",
    "    n = len(data)\n",
    "    mean = sum(data) / n\n",
    "    return sum((x - mean) ** 2 for x in data) / (n - ddof)\n",
    "def stdev(data, ddof=0):\n",
    "    return math.sqrt(variance(data, ddof))\n",
    "##############Skewness##########################\n",
    "def skew(data,ddof):\n",
    "    return 3*(mean(data)-median(data))/stdev(data,ddof)\n",
    "####Example#################3\n",
    "data=[4, 8, 6, 5, 3, 2, 8, 9, 2, 5]\n",
    "ddof=1\n",
    "print(skew(data,ddof))"
   ]
  },
  {
   "cell_type": "code",
   "execution_count": 49,
   "id": "60d272a6",
   "metadata": {},
   "outputs": [
    {
     "name": "stdout",
     "output_type": "stream",
     "text": [
      "Reject the Null Hypothesis since p-value is less than significance level= 0.05\n"
     ]
    }
   ],
   "source": [
    "##########Doing paired sample T-test for the following data\n",
    "Before_Course=[44,40,61,52,32,44,70,41,67,72,53,72]\n",
    "After_Course=[53,38,69,57,46,39,73,48,73,74,60,78]\n",
    "import pandas as pd\n",
    "import math\n",
    "Data=pd.DataFrame((zip(Before_Course, After_Course)), columns = ['Before', 'After'])\n",
    "Diff=Data['Before']-Data['After']\n",
    "import statistics\n",
    "Mean=statistics.mean(Diff)\n",
    "Stdev=statistics.stdev(Diff, xbar = Mean)\n",
    "n=Data.shape[0]\n",
    "t_statistic=Mean/(Stdev/math.sqrt(n))\n",
    "dof=n-1\n",
    "import scipy.stats\n",
    "p=scipy.stats.t.sf(abs(t_statistic), df=dof)*2\n",
    "alpha=0.05\n",
    "if p<alpha:\n",
    "    print(\"Reject the Null Hypothesis since p-value is less than significance level=\",alpha)\n",
    "else:\n",
    "    print(\"Cannot reject the Null Hypothesis\")\n"
   ]
  },
  {
   "cell_type": "code",
   "execution_count": 77,
   "id": "3d504296",
   "metadata": {},
   "outputs": [
    {
     "name": "stdout",
     "output_type": "stream",
     "text": [
      "Dependent (reject H0) for data2\n",
      "Independent (H0 holds true) for data1\n"
     ]
    }
   ],
   "source": [
    "#################Chi-Square Test#########################################\n",
    "from scipy.stats import chi2_contingency \n",
    "data1 = [[207, 282, 241], [234, 242, 232]]\n",
    "data2 = [[100, 200, 300], [50, 60, 70]] \n",
    "stat, p, dof, expected = chi2_contingency(data2)\n",
    "alpha = 0.05\n",
    "if p <= alpha:\n",
    "    print('Dependent (reject H0) for data2')\n",
    "else:\n",
    "    print('Independent (H0 holds true) for data2')\n",
    "stat, p, dof, expected = chi2_contingency(data1)\n",
    "if p <= alpha:\n",
    "    print('Dependent (reject H0) for data1')\n",
    "else:\n",
    "    print('Independent (H0 holds true) for data1')\n"
   ]
  },
  {
   "cell_type": "markdown",
   "id": "ebcf9a43",
   "metadata": {},
   "source": [
    "## "
   ]
  },
  {
   "cell_type": "code",
   "execution_count": 51,
   "id": "1f339d91",
   "metadata": {},
   "outputs": [
    {
     "name": "stdout",
     "output_type": "stream",
     "text": [
      "Mean =  5.239025991097695\n",
      "Variance =  10.388815762430841\n"
     ]
    },
    {
     "data": {
      "image/png": "[encoded data removed]",
      "text/plain": [
       "<Figure size 432x288 with 1 Axes>"
      ]
     },
     "metadata": {
      "needs_background": "light"
     },
     "output_type": "display_data"
    }
   ],
   "source": [
    "########Generate Normal Distribution and store data into csv file \n",
    "from numpy import random\n",
    "import numpy as np\n",
    "import pandas as pd\n",
    "import math\n",
    "df = pd.DataFrame(np.random.normal(loc=5, scale=4,size=100),columns = ['x'])\n",
    "df.to_csv(\"normal.csv\")\n",
    "data=pd.read_csv('normal.csv')\n",
    "data=data.loc[:,\"x\"]\n",
    "print(\"Mean = \",data.mean())\n",
    "print(\"Variance = \",data.var())\n",
    "z_score=(data-data.mean())/math.sqrt(data.var())\n",
    "from matplotlib import pyplot as plt\n",
    "\n",
    "plt.plot(data,label=\"Actual data\",color='red')\n",
    "plt.plot(z_score,label=\"Z-Score\",color='blue')\n",
    "plt.legend()\n",
    "plt.show()\n",
    "\n",
    "\n",
    "\n",
    "  \n"
   ]
  },
  {
   "cell_type": "code",
   "execution_count": null,
   "id": "c9999679",
   "metadata": {},
   "outputs": [],
   "source": []
  },
  {
   "cell_type": "code",
   "execution_count": null,
   "id": "1c6bba89",
   "metadata": {},
   "outputs": [],
   "source": []
  }
 ],
 "metadata": {
  "kernelspec": {
   "display_name": "Python 3 (ipykernel)",
   "language": "python",
   "name": "python3"
  },
  "language_info": {
   "codemirror_mode": {
    "name": "ipython",
    "version": 3
   },
   "file_extension": ".py",
   "mimetype": "text/x-python",
   "name": "python",
   "nbconvert_exporter": "python",
   "pygments_lexer": "ipython3",
   "version": "3.9.12"
  }
 },
 "nbformat": 4,
 "nbformat_minor": 5
}
